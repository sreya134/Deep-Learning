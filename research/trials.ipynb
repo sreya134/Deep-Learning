{
 "cells": [
  {
   "cell_type": "markdown",
   "metadata": {},
   "source": [
    "Download data from gdrive"
   ]
  },
  {
   "cell_type": "code",
   "execution_count": 11,
   "metadata": {},
   "outputs": [
    {
     "name": "stdout",
     "output_type": "stream",
     "text": [
      "Requirement already satisfied: gdown in /Users/sreyachowdarynagineni/Desktop/mlproject/.venv/lib/python3.10/site-packages (5.2.0)\n",
      "Requirement already satisfied: beautifulsoup4 in /Users/sreyachowdarynagineni/Desktop/mlproject/.venv/lib/python3.10/site-packages (from gdown) (4.12.3)\n",
      "Requirement already satisfied: filelock in /Users/sreyachowdarynagineni/Desktop/mlproject/.venv/lib/python3.10/site-packages (from gdown) (3.14.0)\n",
      "Requirement already satisfied: requests[socks] in /Users/sreyachowdarynagineni/Desktop/mlproject/.venv/lib/python3.10/site-packages (from gdown) (2.32.2)\n",
      "Requirement already satisfied: tqdm in /Users/sreyachowdarynagineni/Desktop/mlproject/.venv/lib/python3.10/site-packages (from gdown) (4.66.4)\n",
      "Requirement already satisfied: soupsieve>1.2 in /Users/sreyachowdarynagineni/Desktop/mlproject/.venv/lib/python3.10/site-packages (from beautifulsoup4->gdown) (2.5)\n",
      "Requirement already satisfied: charset-normalizer<4,>=2 in /Users/sreyachowdarynagineni/Desktop/mlproject/.venv/lib/python3.10/site-packages (from requests[socks]->gdown) (3.3.2)\n",
      "Requirement already satisfied: idna<4,>=2.5 in /Users/sreyachowdarynagineni/Desktop/mlproject/.venv/lib/python3.10/site-packages (from requests[socks]->gdown) (3.7)\n",
      "Requirement already satisfied: urllib3<3,>=1.21.1 in /Users/sreyachowdarynagineni/Desktop/mlproject/.venv/lib/python3.10/site-packages (from requests[socks]->gdown) (2.2.1)\n",
      "Requirement already satisfied: certifi>=2017.4.17 in /Users/sreyachowdarynagineni/Desktop/mlproject/.venv/lib/python3.10/site-packages (from requests[socks]->gdown) (2024.2.2)\n",
      "Requirement already satisfied: PySocks!=1.5.7,>=1.5.6 in /Users/sreyachowdarynagineni/Desktop/mlproject/.venv/lib/python3.10/site-packages (from requests[socks]->gdown) (1.7.1)\n",
      "Note: you may need to restart the kernel to use updated packages.\n"
     ]
    }
   ],
   "source": [
    "pip install gdown"
   ]
  },
  {
   "cell_type": "code",
   "execution_count": 5,
   "metadata": {},
   "outputs": [],
   "source": [
    "import gdown"
   ]
  },
  {
   "cell_type": "code",
   "execution_count": 6,
   "metadata": {},
   "outputs": [],
   "source": [
    "url='https://drive.google.com/file/d/1XevtqOL2YAdmlwUodQug9aFP_o5E1s5K/view?usp=sharing'"
   ]
  },
  {
   "cell_type": "code",
   "execution_count": 7,
   "metadata": {},
   "outputs": [],
   "source": [
    "file_id=url.split('/')[-2]"
   ]
  },
  {
   "cell_type": "code",
   "execution_count": 9,
   "metadata": {},
   "outputs": [
    {
     "name": "stderr",
     "output_type": "stream",
     "text": [
      "Downloading...\n",
      "From (original): https://drive.google.com/uc?export=download&id=1XevtqOL2YAdmlwUodQug9aFP_o5E1s5K\n",
      "From (redirected): https://drive.google.com/uc?export=download&id=1XevtqOL2YAdmlwUodQug9aFP_o5E1s5K&confirm=t&uuid=206c8f28-5ca5-498b-b98d-c591331879c5\n",
      "To: /Users/sreyachowdarynagineni/Desktop/Deeplearning/Deep-Learning/research/kidney_data_CTScan.zip\n",
      "100%|██████████| 136M/136M [00:08<00:00, 16.3MB/s] \n"
     ]
    },
    {
     "data": {
      "text/plain": [
       "'kidney_data_CTScan.zip'"
      ]
     },
     "execution_count": 9,
     "metadata": {},
     "output_type": "execute_result"
    }
   ],
   "source": [
    "prefix='https://drive.google.com/uc?export=download&id='\n",
    "gdown.download(prefix+file_id,\"kidney_data_CTScan.zip\")"
   ]
  },
  {
   "cell_type": "code",
   "execution_count": 12,
   "metadata": {},
   "outputs": [
    {
     "name": "stdout",
     "output_type": "stream",
     "text": [
      "Collecting python-box\n",
      "  Downloading python_box-7.1.1-py3-none-any.whl.metadata (7.8 kB)\n",
      "Downloading python_box-7.1.1-py3-none-any.whl (28 kB)\n",
      "Installing collected packages: python-box\n",
      "Successfully installed python-box-7.1.1\n",
      "Note: you may need to restart the kernel to use updated packages.\n"
     ]
    }
   ],
   "source": [
    "pip install python-box"
   ]
  },
  {
   "cell_type": "code",
   "execution_count": null,
   "metadata": {},
   "outputs": [],
   "source": []
  }
 ],
 "metadata": {
  "kernelspec": {
   "display_name": "Python 3",
   "language": "python",
   "name": "python3"
  },
  "language_info": {
   "codemirror_mode": {
    "name": "ipython",
    "version": 3
   },
   "file_extension": ".py",
   "mimetype": "text/x-python",
   "name": "python",
   "nbconvert_exporter": "python",
   "pygments_lexer": "ipython3",
   "version": "3.10.7"
  }
 },
 "nbformat": 4,
 "nbformat_minor": 2
}
